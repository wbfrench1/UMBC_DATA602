{
 "cells": [
  {
   "cell_type": "code",
   "execution_count": 1,
   "metadata": {},
   "outputs": [],
   "source": [
    "import os\n",
    "import pandas as pd\n",
    "import matplotlib.pyplot as plt \n",
    "from sklearn.model_selection import train_test_split\n",
    "import statsmodels.api as sm\n",
    "import numpy as np"
   ]
  },
  {
   "cell_type": "code",
   "execution_count": 2,
   "metadata": {},
   "outputs": [],
   "source": [
    "#get project data\n",
    "df_data = pd.read_csv('p1_procesed_data.csv')"
   ]
  },
  {
   "cell_type": "code",
   "execution_count": 3,
   "metadata": {},
   "outputs": [],
   "source": [
    "#from Murat Guner Linear Regression.ipynb\n",
    "#split the data into training and test data sets\n",
    "df_xtrain, df_xtest = train_test_split(df_data,test_size = .2)"
   ]
  },
  {
   "cell_type": "code",
   "execution_count": 4,
   "metadata": {},
   "outputs": [
    {
     "name": "stdout",
     "output_type": "stream",
     "text": [
      "df_data shape: (236, 8)\n",
      "df_xtrain shape: (188, 8)\n",
      "df_xtest shape: (48, 8)\n"
     ]
    }
   ],
   "source": [
    "#confirm the division of data\n",
    "print('df_data shape:',df_data.shape)\n",
    "print('df_xtrain shape:',df_xtrain.shape)\n",
    "print('df_xtest shape:',df_xtest.shape)"
   ]
  },
  {
   "cell_type": "markdown",
   "metadata": {},
   "source": [
    "# Show plots here of each predictor against the response"
   ]
  },
  {
   "cell_type": "code",
   "execution_count": 5,
   "metadata": {},
   "outputs": [
    {
     "data": {
      "text/plain": [
       "[<matplotlib.lines.Line2D at 0xb4ae7f0>]"
      ]
     },
     "execution_count": 5,
     "metadata": {},
     "output_type": "execute_result"
    },
    {
     "data": {
      "image/png": "[encoded data removed]",
      "text/plain": [
       "<Figure size 432x288 with 1 Axes>"
      ]
     },
     "metadata": {
      "needs_background": "light"
     },
     "output_type": "display_data"
    }
   ],
   "source": [
    "plt.plot(df_data['Date'],df_data['van500'])"
   ]
  },
  {
   "cell_type": "code",
   "execution_count": 6,
   "metadata": {},
   "outputs": [
    {
     "data": {
      "text/plain": [
       "Index(['Unnamed: 0', 'Date', 'cci', 'poilbre', 'pgold', 'cpi', 'ppi',\n",
       "       'van500'],\n",
       "      dtype='object')"
      ]
     },
     "execution_count": 6,
     "metadata": {},
     "output_type": "execute_result"
    }
   ],
   "source": [
    "df_xtrain.columns"
   ]
  },
  {
   "cell_type": "code",
   "execution_count": 7,
   "metadata": {},
   "outputs": [
    {
     "data": {
      "text/html": [
       "<div>\n",
       "<style scoped>\n",
       "    .dataframe tbody tr th:only-of-type {\n",
       "        vertical-align: middle;\n",
       "    }\n",
       "\n",
       "    .dataframe tbody tr th {\n",
       "        vertical-align: top;\n",
       "    }\n",
       "\n",
       "    .dataframe thead th {\n",
       "        text-align: right;\n",
       "    }\n",
       "</style>\n",
       "<table border=\"1\" class=\"dataframe\">\n",
       "  <thead>\n",
       "    <tr style=\"text-align: right;\">\n",
       "      <th></th>\n",
       "      <th>Unnamed: 0</th>\n",
       "      <th>Date</th>\n",
       "      <th>cci</th>\n",
       "      <th>poilbre</th>\n",
       "      <th>pgold</th>\n",
       "      <th>cpi</th>\n",
       "      <th>ppi</th>\n",
       "      <th>van500</th>\n",
       "    </tr>\n",
       "  </thead>\n",
       "  <tbody>\n",
       "    <tr>\n",
       "      <th>133</th>\n",
       "      <td>133</td>\n",
       "      <td>2012-02-01</td>\n",
       "      <td>98.58278</td>\n",
       "      <td>119.702381</td>\n",
       "      <td>1742.619048</td>\n",
       "      <td>228.329</td>\n",
       "      <td>174.5</td>\n",
       "      <td>106.370796</td>\n",
       "    </tr>\n",
       "    <tr>\n",
       "      <th>42</th>\n",
       "      <td>42</td>\n",
       "      <td>2004-07-01</td>\n",
       "      <td>101.08150</td>\n",
       "      <td>38.371364</td>\n",
       "      <td>398.090909</td>\n",
       "      <td>189.100</td>\n",
       "      <td>113.3</td>\n",
       "      <td>73.358429</td>\n",
       "    </tr>\n",
       "    <tr>\n",
       "      <th>136</th>\n",
       "      <td>136</td>\n",
       "      <td>2012-05-01</td>\n",
       "      <td>98.69314</td>\n",
       "      <td>110.521739</td>\n",
       "      <td>1585.504545</td>\n",
       "      <td>228.713</td>\n",
       "      <td>179.8</td>\n",
       "      <td>102.613838</td>\n",
       "    </tr>\n",
       "    <tr>\n",
       "      <th>124</th>\n",
       "      <td>124</td>\n",
       "      <td>2011-05-01</td>\n",
       "      <td>98.04996</td>\n",
       "      <td>114.458182</td>\n",
       "      <td>1510.437500</td>\n",
       "      <td>224.806</td>\n",
       "      <td>172.2</td>\n",
       "      <td>103.076454</td>\n",
       "    </tr>\n",
       "    <tr>\n",
       "      <th>162</th>\n",
       "      <td>162</td>\n",
       "      <td>2014-07-01</td>\n",
       "      <td>99.39211</td>\n",
       "      <td>106.983043</td>\n",
       "      <td>1310.967391</td>\n",
       "      <td>237.498</td>\n",
       "      <td>187.3</td>\n",
       "      <td>158.195053</td>\n",
       "    </tr>\n",
       "  </tbody>\n",
       "</table>\n",
       "</div>"
      ],
      "text/plain": [
       "     Unnamed: 0        Date        cci     poilbre        pgold      cpi  \\\n",
       "133         133  2012-02-01   98.58278  119.702381  1742.619048  228.329   \n",
       "42           42  2004-07-01  101.08150   38.371364   398.090909  189.100   \n",
       "136         136  2012-05-01   98.69314  110.521739  1585.504545  228.713   \n",
       "124         124  2011-05-01   98.04996  114.458182  1510.437500  224.806   \n",
       "162         162  2014-07-01   99.39211  106.983043  1310.967391  237.498   \n",
       "\n",
       "       ppi      van500  \n",
       "133  174.5  106.370796  \n",
       "42   113.3   73.358429  \n",
       "136  179.8  102.613838  \n",
       "124  172.2  103.076454  \n",
       "162  187.3  158.195053  "
      ]
     },
     "execution_count": 7,
     "metadata": {},
     "output_type": "execute_result"
    }
   ],
   "source": [
    "df_xtrain.head()"
   ]
  },
  {
   "cell_type": "code",
   "execution_count": 8,
   "metadata": {},
   "outputs": [
    {
     "name": "stdout",
     "output_type": "stream",
     "text": [
      "                            OLS Regression Results                            \n",
      "==============================================================================\n",
      "Dep. Variable:                 van500   R-squared:                       0.919\n",
      "Model:                            OLS   Adj. R-squared:                  0.916\n",
      "Method:                 Least Squares   F-statistic:                     410.9\n",
      "Date:                Sun, 20 Sep 2020   Prob (F-statistic):           4.18e-97\n",
      "Time:                        09:08:39   Log-Likelihood:                -822.49\n",
      "No. Observations:                 188   AIC:                             1657.\n",
      "Df Residuals:                     182   BIC:                             1676.\n",
      "Df Model:                           5                                         \n",
      "Covariance Type:            nonrobust                                         \n",
      "==============================================================================\n",
      "                 coef    std err          t      P>|t|      [0.025      0.975]\n",
      "------------------------------------------------------------------------------\n",
      "const      -1556.0158    136.247    -11.421      0.000   -1824.843   -1287.189\n",
      "cci           10.3474      1.432      7.226      0.000       7.522      13.173\n",
      "poilbre       -0.3782      0.091     -4.148      0.000      -0.558      -0.198\n",
      "pgold         -0.0119      0.009     -1.259      0.210      -0.031       0.007\n",
      "cpi            3.6955      0.500      7.391      0.000       2.709       4.682\n",
      "ppi           -0.7597      0.418     -1.819      0.071      -1.584       0.064\n",
      "==============================================================================\n",
      "Omnibus:                       48.261   Durbin-Watson:                   1.908\n",
      "Prob(Omnibus):                  0.000   Jarque-Bera (JB):              120.550\n",
      "Skew:                           1.104   Prob(JB):                     6.65e-27\n",
      "Kurtosis:                       6.242   Cond. No.                     1.08e+05\n",
      "==============================================================================\n",
      "\n",
      "Warnings:\n",
      "[1] Standard Errors assume that the covariance matrix of the errors is correctly specified.\n",
      "[2] The condition number is large, 1.08e+05. This might indicate that there are\n",
      "strong multicollinearity or other numerical problems.\n"
     ]
    }
   ],
   "source": [
    "#from Murat Guner Linear Regression.ipynb\n",
    "X = df_xtrain[['cci', 'poilbre', 'pgold','cpi','ppi']]\n",
    "y = df_xtrain.van500\n",
    "X = sm.add_constant(X)\n",
    "mod = sm.OLS(y, X, hasconst= True)\n",
    "res = mod.fit()\n",
    "print(res.summary())"
   ]
  },
  {
   "cell_type": "markdown",
   "metadata": {},
   "source": [
    "### Analysis"
   ]
  },
  {
   "cell_type": "markdown",
   "metadata": {},
   "source": [
    "#### Question: Is there a Relationship between the response and the predictors?\n",
    "\n",
    "To determine whether there is a relationship between the repsonse and the predictors, we  use a hypothesis test, asking:\n",
    "\\begin{align}\n",
    "\\beta_{1}=\\beta_{2}=\\beta_{3}=\\beta_{4}=\\beta_{5}=0\n",
    "\\end{align}\n",
    "<p>The test is run by calculating the F-statistic.  If the resulting statistic is greater than 1 the null hypothesis is rejected and there is at least one predictor that is related to the value of the vanguard 500.  In the OLS Regression results above the F-statistic is 391.</p>  Therefore at least one predictor is related to the response variable."
   ]
  },
  {
   "cell_type": "markdown",
   "metadata": {},
   "source": [
    "#### Question 2: Which variables are important?\n",
    "\n",
    "Of the five predictors, two have values that are less significant than they others: pgold and ppi.  I will perform backwards selection an remove the pgold variable and assess the effect on the model.  I will use p>=3 as my stop rule. "
   ]
  },
  {
   "cell_type": "code",
   "execution_count": 9,
   "metadata": {},
   "outputs": [],
   "source": [
    "df_data.drop(columns='pgold', inplace =True)"
   ]
  },
  {
   "cell_type": "code",
   "execution_count": 10,
   "metadata": {},
   "outputs": [
    {
     "name": "stdout",
     "output_type": "stream",
     "text": [
      "                            OLS Regression Results                            \n",
      "==============================================================================\n",
      "Dep. Variable:                 van500   R-squared:                       0.927\n",
      "Model:                            OLS   Adj. R-squared:                  0.926\n",
      "Method:                 Least Squares   F-statistic:                     585.1\n",
      "Date:                Sun, 20 Sep 2020   Prob (F-statistic):          4.64e-103\n",
      "Time:                        09:08:39   Log-Likelihood:                -809.26\n",
      "No. Observations:                 188   AIC:                             1629.\n",
      "Df Residuals:                     183   BIC:                             1645.\n",
      "Df Model:                           4                                         \n",
      "Covariance Type:            nonrobust                                         \n",
      "==============================================================================\n",
      "                 coef    std err          t      P>|t|      [0.025      0.975]\n",
      "------------------------------------------------------------------------------\n",
      "const      -1942.1218    118.762    -16.353      0.000   -2176.442   -1707.802\n",
      "cci           14.6654      1.209     12.127      0.000      12.279      17.051\n",
      "poilbre       -0.2269      0.088     -2.593      0.010      -0.400      -0.054\n",
      "cpi            3.4128      0.461      7.396      0.000       2.502       4.323\n",
      "ppi           -0.7944      0.390     -2.035      0.043      -1.565      -0.024\n",
      "==============================================================================\n",
      "Omnibus:                       79.737   Durbin-Watson:                   1.942\n",
      "Prob(Omnibus):                  0.000   Jarque-Bera (JB):              383.484\n",
      "Skew:                           1.562   Prob(JB):                     5.34e-84\n",
      "Kurtosis:                       9.261   Cond. No.                     2.66e+04\n",
      "==============================================================================\n",
      "\n",
      "Warnings:\n",
      "[1] Standard Errors assume that the covariance matrix of the errors is correctly specified.\n",
      "[2] The condition number is large, 2.66e+04. This might indicate that there are\n",
      "strong multicollinearity or other numerical problems.\n"
     ]
    }
   ],
   "source": [
    "df_xtrain, df_xtest = train_test_split(df_data,test_size = .2)\n",
    "X = df_xtrain[['cci', 'poilbre', 'cpi','ppi']]\n",
    "y = df_xtrain.van500\n",
    "X = sm.add_constant(X)\n",
    "mod = sm.OLS(y, X, hasconst= True)\n",
    "res = mod.fit()\n",
    "print(res.summary())"
   ]
  },
  {
   "cell_type": "markdown",
   "metadata": {},
   "source": [
    "### Analysis\n",
    "\n",
    "<p> Dropping pgold seems to have been effective.  R-squared increased from .922 to .924, which I will read as no change.  The F-statistic increased from 430 to 537, meaning my predictors are still related to the reponse variable.  The p-value of ppi has increased from 0.067 to 0.432.  I will continue with backwards selection.  I will continue to use p>=3 as my stop rule. "
   ]
  },
  {
   "cell_type": "code",
   "execution_count": 11,
   "metadata": {},
   "outputs": [],
   "source": [
    "df_data.drop(columns='ppi', inplace =True)"
   ]
  },
  {
   "cell_type": "code",
   "execution_count": 12,
   "metadata": {},
   "outputs": [
    {
     "name": "stdout",
     "output_type": "stream",
     "text": [
      "                            OLS Regression Results                            \n",
      "==============================================================================\n",
      "Dep. Variable:                 van500   R-squared:                       0.911\n",
      "Model:                            OLS   Adj. R-squared:                  0.910\n",
      "Method:                 Least Squares   F-statistic:                     629.8\n",
      "Date:                Sun, 20 Sep 2020   Prob (F-statistic):           1.77e-96\n",
      "Time:                        09:08:39   Log-Likelihood:                -832.09\n",
      "No. Observations:                 188   AIC:                             1672.\n",
      "Df Residuals:                     184   BIC:                             1685.\n",
      "Df Model:                           3                                         \n",
      "Covariance Type:            nonrobust                                         \n",
      "==============================================================================\n",
      "                 coef    std err          t      P>|t|      [0.025      0.975]\n",
      "------------------------------------------------------------------------------\n",
      "const      -1639.8476    130.588    -12.557      0.000   -1897.489   -1382.206\n",
      "cci           12.3958      1.322      9.374      0.000       9.787      15.005\n",
      "poilbre       -0.5189      0.069     -7.501      0.000      -0.655      -0.382\n",
      "cpi            2.5939      0.069     37.517      0.000       2.457       2.730\n",
      "==============================================================================\n",
      "Omnibus:                       41.685   Durbin-Watson:                   1.887\n",
      "Prob(Omnibus):                  0.000   Jarque-Bera (JB):               90.651\n",
      "Skew:                           1.008   Prob(JB):                     2.07e-20\n",
      "Kurtosis:                       5.741   Cond. No.                     2.19e+04\n",
      "==============================================================================\n",
      "\n",
      "Warnings:\n",
      "[1] Standard Errors assume that the covariance matrix of the errors is correctly specified.\n",
      "[2] The condition number is large, 2.19e+04. This might indicate that there are\n",
      "strong multicollinearity or other numerical problems.\n"
     ]
    }
   ],
   "source": [
    "df_xtrain, df_xtest = train_test_split(df_data,test_size = .2)\n",
    "X = df_xtrain[['cci', 'poilbre', 'cpi']]\n",
    "y = df_xtrain.van500\n",
    "X = sm.add_constant(X)\n",
    "mod = sm.OLS(y, X, hasconst= True)\n",
    "res = mod.fit()\n",
    "print(res.summary())"
   ]
  },
  {
   "cell_type": "markdown",
   "metadata": {},
   "source": [
    "### Analysis\n",
    "\n",
    "<p> Dropping ppi was effective.  While R-squared decreased from .924 to .911, the change is small and R-squared is affected by then number of predictors regardless of the predictive ability.  Therefore I will read the decrease in p-value as no change.  The F-statistic further increased from 537 to 629, meaning my predictors are still related to the reponse variable.  The p-value of the remaining predictors is tiny, suggesting they are statistically significant."
   ]
  },
  {
   "cell_type": "code",
   "execution_count": 14,
   "metadata": {},
   "outputs": [],
   "source": [
    "#from Murat Guner Linear Regression.ipynb\n",
    "Xtest = df_xtest[['cci', 'poilbre', 'cpi']]\n",
    "ytest = df_xtest.van500\n",
    "Xtest = sm.add_constant(Xtest)\n",
    "\n",
    "res.predict(Xtest);"
   ]
  },
  {
   "cell_type": "code",
   "execution_count": 15,
   "metadata": {},
   "outputs": [
    {
     "data": {
      "image/png": "[encoded data removed]",
      "text/plain": [
       "<Figure size 432x288 with 1 Axes>"
      ]
     },
     "metadata": {
      "needs_background": "light"
     },
     "output_type": "display_data"
    }
   ],
   "source": [
    "#from Murat Guner Linear Regression.ipynb\n",
    "residuals = res.resid\n",
    "\n",
    "y_pred = res.predict(X)\n",
    "plt.scatter(y_pred, residuals)\n",
    "plt.axhline(y=0, color = 'red', label = '0')\n",
    "\n",
    "plt.xlabel('predicted values')\n",
    "\n",
    "plt.ylabel('residuals')\n",
    "\n",
    "plt.tight_layout()"
   ]
  },
  {
   "cell_type": "raw",
   "metadata": {},
   "source": [
    "for i in range(2,df_xtrain.shape[1]-1):\n",
    "    print(i)\n",
    "    df_xtrain.iloc[:,i] = np.cos(df_xtrain.iloc[:,i])\n"
   ]
  },
  {
   "cell_type": "code",
   "execution_count": null,
   "metadata": {},
   "outputs": [],
   "source": []
  }
 ],
 "metadata": {
  "kernelspec": {
   "display_name": "Python 3",
   "language": "python",
   "name": "python3"
  },
  "language_info": {
   "codemirror_mode": {
    "name": "ipython",
    "version": 3
   },
   "file_extension": ".py",
   "mimetype": "text/x-python",
   "name": "python",
   "nbconvert_exporter": "python",
   "pygments_lexer": "ipython3",
   "version": "3.7.3"
  }
 },
 "nbformat": 4,
 "nbformat_minor": 4
}
